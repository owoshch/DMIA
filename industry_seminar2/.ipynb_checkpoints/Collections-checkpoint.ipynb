{
 "cells": [
  {
   "cell_type": "markdown",
   "metadata": {},
   "source": [
    "#Самурай без меча подобен самураю с мечом, но только без меча\n",
    "\n",
    "Поэтому начнём с разновидностей словарей"
   ]
  },
  {
   "cell_type": "markdown",
   "metadata": {},
   "source": [
    "#OrderedDict"
   ]
  },
  {
   "cell_type": "code",
   "execution_count": null,
   "metadata": {
    "collapsed": true
   },
   "outputs": [],
   "source": [
    "from collections import OrderedDict"
   ]
  },
  {
   "cell_type": "markdown",
   "metadata": {},
   "source": [
    "Обычный словарь, только помнит в каком порядке добавлялись элементы"
   ]
  },
  {
   "cell_type": "markdown",
   "metadata": {},
   "source": [
    "имеет дополнительный метод popitem(last), который удаляет и возвращает последний добавленный элемент(last=True) или первый (last=False)"
   ]
  },
  {
   "cell_type": "markdown",
   "metadata": {},
   "source": [
    "##### В целом, очень редко используется"
   ]
  },
  {
   "cell_type": "markdown",
   "metadata": {},
   "source": [
    "копипаста из документации"
   ]
  },
  {
   "cell_type": "code",
   "execution_count": null,
   "metadata": {
    "collapsed": true
   },
   "outputs": [],
   "source": [
    "d = {'banana': 3, 'apple': 4, 'pear': 1, 'orange': 2}"
   ]
  },
  {
   "cell_type": "code",
   "execution_count": null,
   "metadata": {
    "collapsed": false
   },
   "outputs": [],
   "source": [
    "# dictionary sorted by key\n",
    "OrderedDict(sorted(d.items(), key=lambda t: t[0]))"
   ]
  },
  {
   "cell_type": "code",
   "execution_count": null,
   "metadata": {
    "collapsed": false
   },
   "outputs": [],
   "source": [
    "# dictionary sorted by length of the key string\n",
    "OrderedDict(sorted(d.items(), key=lambda t: len(t[0])))"
   ]
  },
  {
   "cell_type": "markdown",
   "metadata": {},
   "source": [
    "#defaultdict"
   ]
  },
  {
   "cell_type": "markdown",
   "metadata": {},
   "source": [
    "Обычный словарь, но со значением по умолчанию, которое можно задавать."
   ]
  },
  {
   "cell_type": "code",
   "execution_count": null,
   "metadata": {
    "collapsed": true
   },
   "outputs": [],
   "source": [
    "from collections import defaultdict"
   ]
  },
  {
   "cell_type": "markdown",
   "metadata": {},
   "source": [
    "###Как создать"
   ]
  },
  {
   "cell_type": "markdown",
   "metadata": {},
   "source": [
    "defaultdict(default_factory)\n",
    "\n",
    "default_factory - вызываемый объект для создания значения по умолчанию"
   ]
  },
  {
   "cell_type": "code",
   "execution_count": null,
   "metadata": {
    "collapsed": false
   },
   "outputs": [],
   "source": [
    "print defaultdict(int)\n",
    "print defaultdict(float)\n",
    "print defaultdict(list)\n",
    "print defaultdict(dict)\n",
    "print defaultdict(lambda: 7)"
   ]
  },
  {
   "cell_type": "markdown",
   "metadata": {},
   "source": [
    "Чем плохо так писать?"
   ]
  },
  {
   "cell_type": "code",
   "execution_count": null,
   "metadata": {
    "collapsed": false
   },
   "outputs": [],
   "source": [
    "default = {'id': 0}\n",
    "ddict = defaultdict(lambda: default)"
   ]
  },
  {
   "cell_type": "code",
   "execution_count": null,
   "metadata": {
    "collapsed": false
   },
   "outputs": [],
   "source": [
    "# ddict['lol']['id'] = 8\n",
    "# ddict[1]['id'] = 'azaza'\n",
    "# print ddict"
   ]
  },
  {
   "cell_type": "code",
   "execution_count": null,
   "metadata": {
    "collapsed": true
   },
   "outputs": [],
   "source": [
    "ddict = defaultdict(lambda: {'id': 0})"
   ]
  },
  {
   "cell_type": "code",
   "execution_count": null,
   "metadata": {
    "collapsed": false
   },
   "outputs": [],
   "source": [
    "# ddict['lol']['id'] = 8\n",
    "# ddict[1]['id'] = 'azaza'\n",
    "# print ddict"
   ]
  },
  {
   "cell_type": "markdown",
   "metadata": {},
   "source": [
    "###Как обычно используют"
   ]
  },
  {
   "cell_type": "markdown",
   "metadata": {},
   "source": [
    "Чтобы сгруппировать данные"
   ]
  },
  {
   "cell_type": "code",
   "execution_count": null,
   "metadata": {
    "collapsed": false
   },
   "outputs": [],
   "source": [
    "s = [('yellow', 1), ('blue', 2), ('yellow', 3), ('blue', 4), ('red', 1)]\n",
    "d = defaultdict(list)\n",
    "for k, v in s:\n",
    "    d[k].append(v)\n",
    "\n",
    "d.items()"
   ]
  },
  {
   "cell_type": "markdown",
   "metadata": {},
   "source": [
    "Либо когда лень писать код проверки наличия объекта в коллекции (например в рекомендациях для новых товаров нет статистики появлений)"
   ]
  },
  {
   "cell_type": "markdown",
   "metadata": {},
   "source": [
    "#Counter"
   ]
  },
  {
   "cell_type": "markdown",
   "metadata": {},
   "source": [
    "Counter позволяет хранить частоты объектов, по сути defaultdict(int), но предоставляет дополнительные методы для работы счётчиков за счёт ограничения на тип значений"
   ]
  },
  {
   "cell_type": "code",
   "execution_count": null,
   "metadata": {
    "collapsed": true
   },
   "outputs": [],
   "source": [
    "from collections import Counter"
   ]
  },
  {
   "cell_type": "markdown",
   "metadata": {},
   "source": [
    "###Как создать"
   ]
  },
  {
   "cell_type": "code",
   "execution_count": null,
   "metadata": {
    "collapsed": false
   },
   "outputs": [],
   "source": [
    "c = Counter()                           # a new, empty counter\n",
    "print c\n",
    "c = Counter('gallahad')                 # a new counter from an iterable\n",
    "print c\n",
    "c = Counter({'red': 4, 'blue': 2})      # a new counter from a mapping\n",
    "print c\n",
    "c = Counter(cats=4, dogs=8)             # a new counter from keyword args\n",
    "print c"
   ]
  },
  {
   "cell_type": "markdown",
   "metadata": {},
   "source": [
    "###Наиболее полезные функции"
   ]
  },
  {
   "cell_type": "code",
   "execution_count": null,
   "metadata": {
    "collapsed": false
   },
   "outputs": [],
   "source": [
    "c = Counter('dsgfkasgfljshdfashfgashjdfgajsgfhajksgfdalkjfgasjh')\n",
    "print c"
   ]
  },
  {
   "cell_type": "markdown",
   "metadata": {},
   "source": [
    "most_common(n) - возвращает n самых частых\n",
    "\n",
    "####Примечание:\n",
    "работает за $O(len(c) * \\log n)$"
   ]
  },
  {
   "cell_type": "code",
   "execution_count": null,
   "metadata": {
    "collapsed": false
   },
   "outputs": [],
   "source": [
    "c.most_common(3) # 3 most common elemts"
   ]
  },
  {
   "cell_type": "markdown",
   "metadata": {},
   "source": [
    "substract(cnt) и update(cnt)  - обновление счётчиков"
   ]
  },
  {
   "cell_type": "code",
   "execution_count": null,
   "metadata": {
    "collapsed": false
   },
   "outputs": [],
   "source": [
    "c = Counter(a=4, b=2, c=0, d=-2)\n",
    "d = Counter(a=1, b=2, c=3, d=4)\n",
    "c.subtract(d)\n",
    "print c\n",
    "c.update(d)\n",
    "print c"
   ]
  },
  {
   "cell_type": "markdown",
   "metadata": {},
   "source": [
    "Можно передавать всё, от чего берётся Counter"
   ]
  },
  {
   "cell_type": "code",
   "execution_count": null,
   "metadata": {
    "collapsed": false
   },
   "outputs": [],
   "source": [
    "c.update(a=4)\n",
    "print c\n",
    "c.update('aaaa')\n",
    "print c\n",
    "c.update({'a': 4})\n",
    "print c"
   ]
  },
  {
   "cell_type": "markdown",
   "metadata": {},
   "source": [
    "Можно читерить и делать счётчики нецелыми"
   ]
  },
  {
   "cell_type": "code",
   "execution_count": null,
   "metadata": {
    "collapsed": false
   },
   "outputs": [],
   "source": [
    "c = Counter(a=4.1, b=-2.5, c=0.01, d=-2.3, f=0)\n",
    "print c\n",
    "print c.most_common(2)"
   ]
  },
  {
   "cell_type": "markdown",
   "metadata": {},
   "source": [
    "Частые патерны использования"
   ]
  },
  {
   "cell_type": "code",
   "execution_count": null,
   "metadata": {
    "collapsed": false
   },
   "outputs": [],
   "source": [
    "print sum(c.values())                 # total of all counts\n",
    "print list(c)                         # list unique elements\n",
    "print set(c)                          # convert to a set\n",
    "print dict(c)                         # convert to a regular dictionary\n",
    "print c.items()                       # convert to a list of (elem, cnt) pairs\n",
    "print Counter(dict([(1, 2), (3, 4)])) # convert from a list of (elem, cnt) pairs\n",
    "n = 3\n",
    "print c.most_common()[:-n-1:-1]       # n least common elements\n",
    "c += Counter()                        # remove zero and negative counts\n",
    "print c"
   ]
  },
  {
   "cell_type": "markdown",
   "metadata": {},
   "source": [
    "###Как обычно используют"
   ]
  },
  {
   "cell_type": "markdown",
   "metadata": {},
   "source": [
    "Как следует из названия - чтобы считать счётчики."
   ]
  },
  {
   "cell_type": "code",
   "execution_count": null,
   "metadata": {
    "collapsed": false
   },
   "outputs": [],
   "source": [
    "visits = [{'id': 1}, {'id': 10}, {'id': 4}, {'id': 2}, {'id': 4}, {'id': 1}]\n",
    "occurences = Counter()\n",
    "for item in visits:\n",
    "    occurences[item['id']] += 1\n",
    "print occurences\n",
    "print Counter(x['id'] for x in visits)"
   ]
  },
  {
   "cell_type": "markdown",
   "metadata": {},
   "source": [
    "#namedtuple"
   ]
  },
  {
   "cell_type": "code",
   "execution_count": null,
   "metadata": {
    "collapsed": true
   },
   "outputs": [],
   "source": [
    "from collections import namedtuple"
   ]
  },
  {
   "cell_type": "markdown",
   "metadata": {},
   "source": [
    "Как следует из названия это tuple, но вместо индексов используются слова.\n",
    "\n",
    "Неизменяемый объект.\n",
    "\n",
    "Нужен, когда важна читабельность кода и память. Ведёт себя как обычный tuple, просто с добавлением обращений по имени.\n",
    "\n",
    "Особо разглагольствовать не будем, простой пример."
   ]
  },
  {
   "cell_type": "code",
   "execution_count": null,
   "metadata": {
    "collapsed": false
   },
   "outputs": [],
   "source": [
    "import random\n",
    "import time\n",
    "import sys"
   ]
  },
  {
   "cell_type": "code",
   "execution_count": null,
   "metadata": {
    "collapsed": false
   },
   "outputs": [],
   "source": [
    "objects_dict = {\n",
    "    x: {\n",
    "        'first_property': random.random(),\n",
    "        'second_property': random.random(),\n",
    "        'fourth_property': random.random(),\n",
    "        'do_you_know_where_the_third_property_is': random.random() < 0.5,\n",
    "    }\n",
    "    for x in xrange(100000)\n",
    "}\n",
    "print 'dict object size is', sys.getsizeof(objects_dict[0])\n",
    "\n",
    "ComplexObject = namedtuple('ComplexObject', 'first_property second_property fourth_property do_you_know_where_the_third_property_is')\n",
    "\n",
    "print ComplexObject(first_property=1, second_property=2, fourth_property=4, do_you_know_where_the_third_property_is=False)\n",
    "print ComplexObject(**{\n",
    "        'first_property': 1,\n",
    "        'second_property': 2,\n",
    "        'fourth_property': 4,\n",
    "        'do_you_know_where_the_third_property_is': False\n",
    "    })\n",
    "\n",
    "objects_namedtuple = {\n",
    "    k: ComplexObject(**v)\n",
    "    for k, v in objects_dict.iteritems()\n",
    "}\n",
    "print 'namedtuple object size is', sys.getsizeof(objects_namedtuple[0])\n",
    "\n",
    "class MObject(object):\n",
    "    __slots__ = ('first_property', 'second_property', 'fourth_property', 'do_you_know_where_the_third_property_is')\n",
    "    def __init__(self, first_property, second_property, fourth_property, do_you_know_where_the_third_property_is):\n",
    "        self.first_property = first_property\n",
    "        self.second_property = second_property\n",
    "        self.fourth_property = fourth_property\n",
    "        self.do_you_know_where_the_third_property_is = do_you_know_where_the_third_property_is\n",
    "        \n",
    "print MObject(first_property=1, second_property=2, fourth_property=4, do_you_know_where_the_third_property_is=False)\n",
    "print MObject(**{\n",
    "        'first_property': 1,\n",
    "        'second_property': 2,\n",
    "        'fourth_property': 4,\n",
    "        'do_you_know_where_the_third_property_is': False\n",
    "    })\n",
    "\n",
    "objects_class = {\n",
    "    k: MObject(**v)\n",
    "    for k, v in objects_dict.iteritems()\n",
    "}\n",
    "print 'slots class object size is', sys.getsizeof(objects_namedtuple[0])"
   ]
  },
  {
   "cell_type": "code",
   "execution_count": null,
   "metadata": {
    "collapsed": false
   },
   "outputs": [],
   "source": [
    "%%time\n",
    "total_time = 0.\n",
    "first_value = 0.\n",
    "second_value = 0.\n",
    "fourth_value = 0.\n",
    "bool_value = False\n",
    "random.seed(42)\n",
    "for _ in xrange(1000000):\n",
    "    index = random.randint(0, 99999)\n",
    "    obj = objects_dict[index]\n",
    "    bool_value ^= obj['do_you_know_where_the_third_property_is']\n",
    "    first_value += obj['first_property']\n",
    "    second_value += obj['second_property']\n",
    "    fourth_value += obj['fourth_property']\n",
    "    \n",
    "    start = time.time()\n",
    "    obj['do_you_know_where_the_third_property_is']\n",
    "    obj['first_property']\n",
    "    obj['second_property']\n",
    "    obj['fourth_property']\n",
    "    total_time += time.time() - start\n",
    "    \n",
    "print first_value\n",
    "print second_value\n",
    "print fourth_value\n",
    "print bool_value\n",
    "\n",
    "print total_time"
   ]
  },
  {
   "cell_type": "code",
   "execution_count": null,
   "metadata": {
    "collapsed": false
   },
   "outputs": [],
   "source": [
    "%%time\n",
    "total_time = 0.\n",
    "first_value = 0.\n",
    "second_value = 0.\n",
    "fourth_value = 0.\n",
    "bool_value = False\n",
    "random.seed(42)\n",
    "for _ in xrange(1000000):\n",
    "    index = random.randint(0, 99999)\n",
    "    obj = objects_namedtuple[index]\n",
    "    bool_value ^= obj.do_you_know_where_the_third_property_is\n",
    "    first_value += obj.first_property\n",
    "    second_value += obj.second_property\n",
    "    fourth_value += obj.fourth_property\n",
    "    \n",
    "    start = time.time()\n",
    "    obj.do_you_know_where_the_third_property_is\n",
    "    obj.first_property\n",
    "    obj.second_property\n",
    "    obj.fourth_property\n",
    "    total_time += time.time() - start\n",
    "    \n",
    "print first_value\n",
    "print second_value\n",
    "print fourth_value\n",
    "print bool_value\n",
    "\n",
    "print total_time"
   ]
  },
  {
   "cell_type": "code",
   "execution_count": null,
   "metadata": {
    "collapsed": false
   },
   "outputs": [],
   "source": [
    "%%time\n",
    "total_time = 0.\n",
    "first_value = 0.\n",
    "second_value = 0.\n",
    "fourth_value = 0.\n",
    "bool_value = False\n",
    "random.seed(42)\n",
    "for _ in xrange(1000000):\n",
    "    index = random.randint(0, 99999)\n",
    "    obj = objects_class[index]\n",
    "    bool_value ^= obj.do_you_know_where_the_third_property_is\n",
    "    first_value += obj.first_property\n",
    "    second_value += obj.second_property\n",
    "    fourth_value += obj.fourth_property\n",
    "    \n",
    "    start = time.time()\n",
    "    obj.do_you_know_where_the_third_property_is\n",
    "    obj.first_property\n",
    "    obj.second_property\n",
    "    obj.fourth_property\n",
    "    total_time += time.time() - start\n",
    "    \n",
    "print first_value\n",
    "print second_value\n",
    "print fourth_value\n",
    "print bool_value\n",
    "\n",
    "print total_time"
   ]
  },
  {
   "cell_type": "markdown",
   "metadata": {},
   "source": [
    "#### Мораль не используйте namedtuple если нужна производительность, используйте слоты или словари, но в последнем случае тот, кто будет читать ваш код, будет очень сильно вас не любить"
   ]
  },
  {
   "cell_type": "markdown",
   "metadata": {},
   "source": [
    "###Чтобы не писать slots самому воспользуйтесь библиотекой recordclass"
   ]
  },
  {
   "cell_type": "markdown",
   "metadata": {},
   "source": [
    "#deque"
   ]
  },
  {
   "cell_type": "markdown",
   "metadata": {},
   "source": [
    "реализует двусторонюю очередь с быстрым индексированием объектов"
   ]
  },
  {
   "cell_type": "markdown",
   "metadata": {},
   "source": [
    "Так как курс не про алгоритмы, то на этом всё :)\n",
    "\n",
    "#### Главное помнить, что индексирование быстрое, а также добавление, удаление в начало и в конец. Всё остальное медленное и лучше это не использовать. Только если очень хочется."
   ]
  },
  {
   "cell_type": "markdown",
   "metadata": {},
   "source": [
    "Копипаста из документации:"
   ]
  },
  {
   "cell_type": "code",
   "execution_count": null,
   "metadata": {
    "collapsed": true
   },
   "outputs": [],
   "source": [
    "from collections import deque"
   ]
  },
  {
   "cell_type": "code",
   "execution_count": null,
   "metadata": {
    "collapsed": false
   },
   "outputs": [],
   "source": [
    "d = deque('ghi')                 # make a new deque with three items\n",
    "for elem in d:                   # iterate over the deque's elements\n",
    "    print elem.upper()"
   ]
  },
  {
   "cell_type": "code",
   "execution_count": null,
   "metadata": {
    "collapsed": false
   },
   "outputs": [],
   "source": [
    "d.append('j')                    # add a new entry to the right side\n",
    "d.appendleft('f')                # add a new entry to the left side\n",
    "d                                # show the representation of the deque"
   ]
  },
  {
   "cell_type": "code",
   "execution_count": null,
   "metadata": {
    "collapsed": false
   },
   "outputs": [],
   "source": [
    "d.pop()                          # return and remove the rightmost item\n",
    "d.popleft()                      # return and remove the leftmost item\n",
    "list(d)                          # list the contents of the deque"
   ]
  },
  {
   "cell_type": "code",
   "execution_count": null,
   "metadata": {
    "collapsed": false
   },
   "outputs": [],
   "source": [
    "d[0]"
   ]
  },
  {
   "cell_type": "code",
   "execution_count": null,
   "metadata": {
    "collapsed": false
   },
   "outputs": [],
   "source": [
    "d[-1]"
   ]
  },
  {
   "cell_type": "code",
   "execution_count": null,
   "metadata": {
    "collapsed": false
   },
   "outputs": [],
   "source": [
    "list(reversed(d)) "
   ]
  },
  {
   "cell_type": "code",
   "execution_count": null,
   "metadata": {
    "collapsed": false
   },
   "outputs": [],
   "source": [
    "'h' in d"
   ]
  },
  {
   "cell_type": "code",
   "execution_count": null,
   "metadata": {
    "collapsed": false
   },
   "outputs": [],
   "source": [
    "d.extend('jkl')\n",
    "d"
   ]
  },
  {
   "cell_type": "code",
   "execution_count": null,
   "metadata": {
    "collapsed": false
   },
   "outputs": [],
   "source": [
    "d.rotate(1) \n",
    "d"
   ]
  },
  {
   "cell_type": "code",
   "execution_count": null,
   "metadata": {
    "collapsed": false
   },
   "outputs": [],
   "source": [
    "d.rotate(-1) \n",
    "d"
   ]
  },
  {
   "cell_type": "code",
   "execution_count": null,
   "metadata": {
    "collapsed": false
   },
   "outputs": [],
   "source": [
    "deque(reversed(d)) "
   ]
  },
  {
   "cell_type": "code",
   "execution_count": null,
   "metadata": {
    "collapsed": false
   },
   "outputs": [],
   "source": [
    "d.clear()                        # empty the deque\n",
    "d.pop()                          # cannot pop from an empty deque"
   ]
  },
  {
   "cell_type": "code",
   "execution_count": null,
   "metadata": {
    "collapsed": false
   },
   "outputs": [],
   "source": [
    "d.extendleft('abc')              # extendleft() reverses the input order\n",
    "d"
   ]
  },
  {
   "cell_type": "code",
   "execution_count": null,
   "metadata": {
    "collapsed": true
   },
   "outputs": [],
   "source": []
  }
 ],
 "metadata": {
  "anaconda-cloud": {},
  "kernelspec": {
   "display_name": "Python [default]",
   "language": "python",
   "name": "python2"
  },
  "language_info": {
   "codemirror_mode": {
    "name": "ipython",
    "version": 2
   },
   "file_extension": ".py",
   "mimetype": "text/x-python",
   "name": "python",
   "nbconvert_exporter": "python",
   "pygments_lexer": "ipython2",
   "version": "2.7.12"
  }
 },
 "nbformat": 4,
 "nbformat_minor": 0
}
