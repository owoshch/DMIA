{
 "cells": [
  {
   "cell_type": "markdown",
   "metadata": {},
   "source": [
    "# lasagne\n",
    "* lasagne - это библиотека для написания нейронок произвольной формы на theano\n",
    "* библиотека низкоуровневая, границы между theano и lasagne практически нет\n",
    "\n",
    "В качестве демо-задачи выберем то же распознавание чисел, но на большем масштабе задачи\n",
    "* картинки 28x28\n",
    "* 10 цифр"
   ]
  },
  {
   "cell_type": "code",
   "execution_count": 1,
   "metadata": {
    "collapsed": true
   },
   "outputs": [],
   "source": [
    "import matplotlib.pyplot as plt\n",
    "%matplotlib inline"
   ]
  },
  {
   "cell_type": "code",
   "execution_count": 2,
   "metadata": {
    "collapsed": false
   },
   "outputs": [
    {
     "name": "stdout",
     "output_type": "stream",
     "text": [
      "(50000, 1, 28, 28) (50000,)\n"
     ]
    }
   ],
   "source": [
    "from mnist import load_dataset\n",
    "X_train,y_train,X_val,y_val,X_test,y_test = load_dataset()\n",
    "\n",
    "print X_train.shape,y_train.shape"
   ]
  },
  {
   "cell_type": "code",
   "execution_count": 3,
   "metadata": {
    "collapsed": false
   },
   "outputs": [
    {
     "data": {
      "text/plain": [
       "<matplotlib.image.AxesImage at 0x7f0d88b82dd0>"
      ]
     },
     "execution_count": 3,
     "metadata": {},
     "output_type": "execute_result"
    },
    {
     "data": {
      "image/png": "[encoded data removed]",
      "text/plain": [
       "<matplotlib.figure.Figure at 0x7f0d9d10c250>"
      ]
     },
     "metadata": {},
     "output_type": "display_data"
    }
   ],
   "source": [
    "plt.imshow(X_train[0,0], cmap = 'gray', interpolation = 'none')"
   ]
  },
  {
   "cell_type": "code",
   "execution_count": 4,
   "metadata": {
    "collapsed": false
   },
   "outputs": [],
   "source": [
    "import lasagne\n",
    "from theano import tensor as T\n",
    "from lasagne.nonlinearities import *\n",
    "\n",
    "input_X = T.tensor4(\"X\")\n",
    "target_y = T.vector(\"target Y integer\",dtype='int32')"
   ]
  },
  {
   "cell_type": "markdown",
   "metadata": {},
   "source": [
    "Так задаётся архитектура нейронки"
   ]
  },
  {
   "cell_type": "code",
   "execution_count": 5,
   "metadata": {
    "collapsed": false
   },
   "outputs": [],
   "source": [
    "#входной слой (вспомогательный)\n",
    "input_layer = lasagne.layers.InputLayer(shape=(None,1,28,28), input_var=input_X)\n",
    "\n",
    "#полносвязный слой, который принимает на вход input layer и имеет 100 нейронов.\n",
    "# нелинейная функция - сигмоида как в логистической регрессии\n",
    "# слоям тоже можно давать имена, но это необязательно\n",
    "dense_1 = lasagne.layers.DenseLayer(input_layer,num_units=100, nonlinearity=sigmoid, name=\"hidden_dense_layer\")\n",
    "\n",
    "#ВЫХОДНОЙ полносвязный слой, который принимает на вход dense_1 и имеет 10 нейронов -по нейрону на цифру\n",
    "#нелинейность - softmax - чтобы вероятности всех цифр давали в сумме 1\n",
    "dense_output = lasagne.layers.DenseLayer(dense_1,num_units = 10, nonlinearity=softmax)"
   ]
  },
  {
   "cell_type": "code",
   "execution_count": 6,
   "metadata": {
    "collapsed": true
   },
   "outputs": [],
   "source": [
    "#предсказание нейронки (theano-преобразование)\n",
    "y_predicted = lasagne.layers.get_output(dense_output)"
   ]
  },
  {
   "cell_type": "code",
   "execution_count": 7,
   "metadata": {
    "collapsed": false
   },
   "outputs": [
    {
     "name": "stdout",
     "output_type": "stream",
     "text": [
      "[hidden_dense_layer.W, hidden_dense_layer.b, W, b]\n"
     ]
    }
   ],
   "source": [
    "#все веса нейронки (shared-переменные)\n",
    "all_weights = lasagne.layers.get_all_params(dense_output)\n",
    "print all_weights"
   ]
  },
  {
   "cell_type": "markdown",
   "metadata": {},
   "source": [
    "### дальше вы могли бы просто\n",
    "* задать функцию ошибки вручную\n",
    "* посчитать градиент ошибки по all_weights\n",
    "* написать updates\n",
    "* но это долго, а простой шаг по градиенту - не самый лучший смособ оптимизировать веса\n",
    "\n",
    "Вместо этого, опять используем lasagne"
   ]
  },
  {
   "cell_type": "code",
   "execution_count": 8,
   "metadata": {
    "collapsed": false
   },
   "outputs": [],
   "source": [
    "#функция ошибки - средняя кроссэнтропия\n",
    "loss = lasagne.objectives.categorical_crossentropy(y_predicted,target_y).mean()\n",
    "\n",
    "accuracy = lasagne.objectives.categorical_accuracy(y_predicted,target_y).mean()\n",
    "\n",
    "#сразу посчитать словарь обновлённых значений с шагом по градиенту, как раньше\n",
    "updates_sgd = lasagne.updates.rmsprop(loss, all_weights,learning_rate=0.01)"
   ]
  },
  {
   "cell_type": "code",
   "execution_count": 9,
   "metadata": {
    "collapsed": true
   },
   "outputs": [],
   "source": [
    "#функция, которая обучает сеть на 1 шаг и возвращащет значение функции потерь и точности\n",
    "train_fun = theano.function([input_X,target_y],[loss,accuracy],updates= updates_sgd)\n",
    "\n",
    "#функция, которая считает точность\n",
    "accuracy_fun = theano.function([input_X,target_y],accuracy)"
   ]
  },
  {
   "cell_type": "markdown",
   "metadata": {},
   "source": [
    "### Вот и всё, пошли её учить\n",
    "* данных теперь много, поэтому лучше учиться стохастическим градиентным спуском\n",
    "* для этого напишем функцию, которая бьёт выпорку на мини-батчи (в обычном питоне, не в theano)"
   ]
  },
  {
   "cell_type": "code",
   "execution_count": 10,
   "metadata": {
    "collapsed": true
   },
   "outputs": [],
   "source": [
    "# вспомогательная функция, которая возвращает список мини-батчей для обучения нейронки\n",
    "\n",
    "#на вход\n",
    "# inputs - тензор из картинок размером (много, 1, 28, 28), например - X_train\n",
    "# targets - вектор из чиселок - ответов для каждой картинки из X; например - Y_train\n",
    "# batchsize - одно число - желаемый размер группы\n",
    "\n",
    "#что нужно сделать\n",
    "# 1) перемешать данные\n",
    "# - важно перемешать targets и targets одним и тем же образом, чтобы сохранить соответствие картинки ответу на неё\n",
    "# 3) побить данные на подгруппы так, чтобы в каждой подгруппе было batchsize картинок и ответов\n",
    "# - если число картинок не делится на batchsize, одну подгруппу можно вернуть другого размера\n",
    "def iterate_minibatches(inputs, targets, batchsize, shuffle=False):\n",
    "    assert len(inputs) == len(targets)\n",
    "    if shuffle:\n",
    "        indices = np.arange(len(inputs))\n",
    "        np.random.shuffle(indices)\n",
    "    for start_idx in range(0, len(inputs) - batchsize + 1, batchsize):\n",
    "        if shuffle:\n",
    "            excerpt = indices[start_idx:start_idx + batchsize]\n",
    "        else:\n",
    "            excerpt = slice(start_idx, start_idx + batchsize)\n",
    "        yield inputs[excerpt], targets[excerpt]"
   ]
  },
  {
   "cell_type": "markdown",
   "metadata": {},
   "source": [
    "# Процесс обучения"
   ]
  },
  {
   "cell_type": "code",
   "execution_count": 11,
   "metadata": {
    "collapsed": false,
    "scrolled": false
   },
   "outputs": [
    {
     "name": "stdout",
     "output_type": "stream",
     "text": [
      "Epoch 1 of 10 took 1.965s\n",
      "  training loss (in-iteration):\t\t0.259902\n",
      "  train accuracy:\t\t92.23 %\n",
      "  validation accuracy:\t\t96.18 %\n",
      "Epoch 2 of 10 took 1.641s\n",
      "  training loss (in-iteration):\t\t0.109264\n",
      "  train accuracy:\t\t96.72 %\n",
      "  validation accuracy:\t\t96.53 %\n",
      "Epoch 3 of 10 took 1.963s\n",
      "  training loss (in-iteration):\t\t0.074230\n",
      "  train accuracy:\t\t97.84 %\n",
      "  validation accuracy:\t\t97.03 %\n",
      "Epoch 4 of 10 took 1.908s\n",
      "  training loss (in-iteration):\t\t0.053345\n",
      "  train accuracy:\t\t98.44 %\n",
      "  validation accuracy:\t\t97.04 %\n",
      "Epoch 5 of 10 took 1.662s\n",
      "  training loss (in-iteration):\t\t0.040528\n",
      "  train accuracy:\t\t98.80 %\n",
      "  validation accuracy:\t\t96.98 %\n",
      "Epoch 6 of 10 took 1.689s\n",
      "  training loss (in-iteration):\t\t0.028922\n",
      "  train accuracy:\t\t99.17 %\n",
      "  validation accuracy:\t\t97.25 %\n",
      "Epoch 7 of 10 took 1.583s\n",
      "  training loss (in-iteration):\t\t0.021312\n",
      "  train accuracy:\t\t99.41 %\n",
      "  validation accuracy:\t\t97.38 %\n",
      "Epoch 8 of 10 took 1.588s\n",
      "  training loss (in-iteration):\t\t0.016605\n",
      "  train accuracy:\t\t99.57 %\n",
      "  validation accuracy:\t\t97.22 %\n",
      "Epoch 9 of 10 took 1.588s\n",
      "  training loss (in-iteration):\t\t0.011497\n",
      "  train accuracy:\t\t99.72 %\n",
      "  validation accuracy:\t\t97.46 %\n",
      "Epoch 10 of 10 took 2.052s\n",
      "  training loss (in-iteration):\t\t0.009193\n",
      "  train accuracy:\t\t99.78 %\n",
      "  validation accuracy:\t\t97.41 %\n"
     ]
    }
   ],
   "source": [
    "import time\n",
    "\n",
    "num_epochs = 10 #количество проходов по данным\n",
    "\n",
    "batch_size = 50 #размер мини-батча\n",
    "\n",
    "for epoch in range(num_epochs):\n",
    "    # In each epoch, we do a full pass over the training data:\n",
    "    train_err = 0\n",
    "    train_acc = 0\n",
    "    train_batches = 0\n",
    "    start_time = time.time()\n",
    "    for batch in iterate_minibatches(X_train, y_train,batch_size):\n",
    "        inputs, targets = batch\n",
    "        train_err_batch, train_acc_batch= train_fun(inputs, targets)\n",
    "        train_err += train_err_batch\n",
    "        train_acc += train_acc_batch\n",
    "        train_batches += 1\n",
    "\n",
    "    # And a full pass over the validation data:\n",
    "    val_acc = 0\n",
    "    val_batches = 0\n",
    "    for batch in iterate_minibatches(X_val, y_val, batch_size):\n",
    "        inputs, targets = batch\n",
    "        val_acc += accuracy_fun(inputs, targets)\n",
    "        val_batches += 1\n",
    "\n",
    "    \n",
    "    # Then we print the results for this epoch:\n",
    "    print(\"Epoch {} of {} took {:.3f}s\".format(\n",
    "        epoch + 1, num_epochs, time.time() - start_time))\n",
    "\n",
    "    print(\"  training loss (in-iteration):\\t\\t{:.6f}\".format(train_err / train_batches))\n",
    "    print(\"  train accuracy:\\t\\t{:.2f} %\".format(\n",
    "        train_acc / train_batches * 100))\n",
    "    print(\"  validation accuracy:\\t\\t{:.2f} %\".format(\n",
    "        val_acc / val_batches * 100))"
   ]
  },
  {
   "cell_type": "code",
   "execution_count": 12,
   "metadata": {
    "collapsed": false
   },
   "outputs": [
    {
     "name": "stdout",
     "output_type": "stream",
     "text": [
      "Final results:\n",
      "  test accuracy:\t\t97.54 %\n",
      "Нужно больше магии!\n"
     ]
    }
   ],
   "source": [
    "test_acc = 0\n",
    "test_batches = 0\n",
    "for batch in iterate_minibatches(X_test, y_test, 500):\n",
    "    inputs, targets = batch\n",
    "    acc = accuracy_fun(inputs, targets)\n",
    "    test_acc += acc\n",
    "    test_batches += 1\n",
    "print(\"Final results:\")\n",
    "print(\"  test accuracy:\\t\\t{:.2f} %\".format(\n",
    "    test_acc / test_batches * 100))\n",
    "\n",
    "if test_acc / test_batches * 100 > 99:\n",
    "    print \"Achievement unlocked: колдун 80 уровня\"\n",
    "else:\n",
    "    print \"Нужно больше магии!\""
   ]
  },
  {
   "cell_type": "markdown",
   "metadata": {},
   "source": [
    "# Нейронка твоей мечты\n",
    "\n",
    "\n",
    "* Задача - сделать нейронку, которая получит точность 99% на валидации (validation accuracy)\n",
    " * Вариант \"is fine too\" - 97.5%. \n",
    " * Чем выше, тем лучше.\n",
    " \n",
    "__ В конце есть мини-отчётик, который имеет смысл прочитать вначале и заполнять по ходу работы. __\n",
    " \n",
    "\n",
    "## Что можно улучшить:\n",
    "\n",
    "\n",
    "\n",
    " * размер сети\n",
    "   * бОльше нейронов, \n",
    "   * бОльше слоёв, \n",
    "   \n",
    " * регуляризация - чтобы не переобучалось\n",
    "   * приплюсовать к функции ошибки какую-нибудь сумму квадратов весов\n",
    "   * можно сделать вручную, а можно - http://lasagne.readthedocs.org/en/latest/modules/regularization.html\n",
    "   * Dropout - для борьбы с переобучением\n",
    "       * `lasagne.layers.DropoutLayer(предыдущий_слой, p=вероятность_занулить)`\n",
    "   \n",
    " * Метод оптимизации - adam, rmsprop, nesterov_momentum, adadelta, adagrad и т.п.\n",
    "   * сходятся быстрее и иногда - к лучшему оптимуму\n",
    "   * имеет смысл поиграть с размером батча, количеством эпох и скоростью обучения\n",
    "   \n",
    " * Наконец, можно поиграть с нелинейностями в скрытых слоях\n",
    "   * tanh, relu, leaky relu, etc"
   ]
  },
  {
   "cell_type": "code",
   "execution_count": 13,
   "metadata": {
    "collapsed": false
   },
   "outputs": [
    {
     "name": "stdout",
     "output_type": "stream",
     "text": [
      "(50000, 1, 28, 28) (50000,)\n"
     ]
    }
   ],
   "source": [
    "from mnist import load_dataset\n",
    "X_train,y_train,X_val,y_val,X_test,y_test = load_dataset()\n",
    "\n",
    "print X_train.shape,y_train.shape"
   ]
  },
  {
   "cell_type": "code",
   "execution_count": 19,
   "metadata": {
    "collapsed": true
   },
   "outputs": [],
   "source": [
    "import lasagne\n",
    "\n",
    "input_X = T.tensor4(\"X\")\n",
    "\n",
    "#размерность входа (None означает \"может изменяться\")\n",
    "input_shape = [None,1,28,28]\n",
    "\n",
    "target_y = T.vector(\"target Y integer\",dtype='int32')"
   ]
  },
  {
   "cell_type": "code",
   "execution_count": 44,
   "metadata": {
    "collapsed": false
   },
   "outputs": [],
   "source": [
    "#входной слой (вспомогательный)\n",
    "input_layer = lasagne.layers.InputLayer(shape = (None, 1, 28, 28),input_var=input_X)\n",
    "#<моя архитектура>\n",
    "#dense_1 = lasagne.layers.DenseLayer(input_layer,num_units=100, nonlinearity=sigmoid, name=\"1\")\n",
    "dense_2 = lasagne.layers.DropoutLayer(input_layer, p=0.2)\n",
    "dense_3 = lasagne.layers.DenseLayer(dense_2,num_units=4096, nonlinearity=sigmoid, name=\"3\")\n",
    "#dense_4 = lasagne.layers.DropoutLayer(dense_3, p=0.5)\n",
    "#dense_5 = lasagne.layers.DenseLayer(dense_4,num_units=1024, nonlinearity=sigmoid, name=\"5\")\n",
    "#dense_6 = lasagne.layers.DropoutLayer(dense_5, p=0.5)\n",
    "#dense_6 = lasagne.layers.DenseLayer(dense_6,num_units=512, nonlinearity=sigmoid, name=\"pre\")\n",
    "dense_pre = lasagne.layers.DropoutLayer(dense_3, p=0.5)\n",
    "\n",
    "#ВЫХОДНОЙ полносвязный слой, который принимает на вход dense_1 и имеет 10 нейронов -по нейрону на цифру\n",
    "#нелинейность - softmax - чтобы вероятности всех цифр давали в сумме 1\n",
    "dense_output = lasagne.layers.DenseLayer(dense_pre,num_units = 10,\n",
    "                                        nonlinearity = lasagne.nonlinearities.softmax,\n",
    "                                        name='output')\n"
   ]
  },
  {
   "cell_type": "code",
   "execution_count": 45,
   "metadata": {
    "collapsed": true
   },
   "outputs": [],
   "source": [
    "#предсказание нейронки (theano-преобразование)\n",
    "y_predicted = lasagne.layers.get_output(dense_output)"
   ]
  },
  {
   "cell_type": "code",
   "execution_count": 46,
   "metadata": {
    "collapsed": false
   },
   "outputs": [
    {
     "name": "stdout",
     "output_type": "stream",
     "text": [
      "[3.W, 3.b, output.W, output.b]\n"
     ]
    }
   ],
   "source": [
    "#все веса нейронки (shared-переменные)\n",
    "all_weights = lasagne.layers.get_all_params(dense_output)\n",
    "print all_weights"
   ]
  },
  {
   "cell_type": "code",
   "execution_count": 47,
   "metadata": {
    "collapsed": true
   },
   "outputs": [],
   "source": [
    "#функция ошибки - средняя кроссэнтропия\n",
    "loss = lasagne.objectives.categorical_crossentropy(y_predicted,target_y).mean()\n",
    "\n",
    "#<возможно добавить регуляризатор>\n",
    "\n",
    "accuracy = lasagne.objectives.categorical_accuracy(y_predicted,target_y).mean()\n",
    "\n",
    "#сразу посчитать словарь обновлённых значений с шагом по градиенту, как раньше\n",
    "updates_sgd = lasagne.updates.rmsprop(loss, all_weights,learning_rate=0.01)"
   ]
  },
  {
   "cell_type": "code",
   "execution_count": 48,
   "metadata": {
    "collapsed": true
   },
   "outputs": [],
   "source": [
    "#функция, которая обучает сеть на 1 шаг и возвращащет значение функции потерь и точности\n",
    "train_fun = theano.function([input_X,target_y],[loss,accuracy],updates= updates_sgd)\n",
    "\n",
    "#функция, которая считает точность\n",
    "accuracy_fun = theano.function([input_X,target_y],accuracy)"
   ]
  },
  {
   "cell_type": "code",
   "execution_count": null,
   "metadata": {
    "collapsed": false
   },
   "outputs": [],
   "source": [
    "#итерации обучения\n",
    "\n",
    "num_epochs = 10 #количество проходов по данным\n",
    "\n",
    "batch_size = 50#размер мини-батча\n",
    "\n",
    "for epoch in range(num_epochs):\n",
    "    # In each epoch, we do a full pass over the training data:\n",
    "    train_err = 0\n",
    "    train_acc = 0\n",
    "    train_batches = 0\n",
    "    start_time = time.time()\n",
    "    for batch in iterate_minibatches(X_train, y_train,batch_size):\n",
    "        inputs, targets = batch\n",
    "        train_err_batch, train_acc_batch= train_fun(inputs, targets)\n",
    "        train_err += train_err_batch\n",
    "        train_acc += train_acc_batch\n",
    "        train_batches += 1\n",
    "\n",
    "    # And a full pass over the validation data:\n",
    "    val_acc = 0\n",
    "    val_batches = 0\n",
    "    for batch in iterate_minibatches(X_val, y_val, batch_size):\n",
    "        inputs, targets = batch\n",
    "        val_acc += accuracy_fun(inputs, targets)\n",
    "        val_batches += 1\n",
    "\n",
    "    \n",
    "    # Then we print the results for this epoch:\n",
    "    print(\"Epoch {} of {} took {:.3f}s\".format(\n",
    "        epoch + 1, num_epochs, time.time() - start_time))\n",
    "\n",
    "    print(\"  training loss (in-iteration):\\t\\t{:.6f}\".format(train_err / train_batches))\n",
    "    print(\"  train accuracy:\\t\\t{:.2f} %\".format(\n",
    "        train_acc / train_batches * 100))\n",
    "    print(\"  validation accuracy:\\t\\t{:.2f} %\".format(\n",
    "        val_acc / val_batches * 100))"
   ]
  },
  {
   "cell_type": "code",
   "execution_count": 28,
   "metadata": {
    "collapsed": false
   },
   "outputs": [
    {
     "name": "stdout",
     "output_type": "stream",
     "text": [
      "Final results:\n",
      "  test accuracy:\t\t91.90 %\n"
     ]
    }
   ],
   "source": [
    "test_acc = 0\n",
    "test_batches = 0\n",
    "for batch in iterate_minibatches(X_test, y_test, 500):\n",
    "    inputs, targets = batch\n",
    "    acc = accuracy_fun(inputs, targets)\n",
    "    test_acc += acc\n",
    "    test_batches += 1\n",
    "print(\"Final results:\")\n",
    "print(\"  test accuracy:\\t\\t{:.2f} %\".format(\n",
    "    test_acc / test_batches * 100))"
   ]
  },
  {
   "cell_type": "code",
   "execution_count": null,
   "metadata": {
    "collapsed": true
   },
   "outputs": [],
   "source": []
  }
 ],
 "metadata": {
  "anaconda-cloud": {},
  "kernelspec": {
   "display_name": "Python 2",
   "language": "python",
   "name": "python2"
  },
  "language_info": {
   "codemirror_mode": {
    "name": "ipython",
    "version": 2
   },
   "file_extension": ".py",
   "mimetype": "text/x-python",
   "name": "python",
   "nbconvert_exporter": "python",
   "pygments_lexer": "ipython2",
   "version": "2.7.13"
  }
 },
 "nbformat": 4,
 "nbformat_minor": 0
}
