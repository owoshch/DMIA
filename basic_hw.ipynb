{
 "cells": [
  {
   "cell_type": "markdown",
   "metadata": {},
   "source": [
    "# DMIA 2016 - Python 1"
   ]
  },
  {
   "cell_type": "markdown",
   "metadata": {},
   "source": [
    "##### Done by Fedor Kitashov "
   ]
  },
  {
   "cell_type": "markdown",
   "metadata": {},
   "source": [
    "# Python "
   ]
  },
  {
   "cell_type": "markdown",
   "metadata": {},
   "source": [
    "## 1. FizzBuzz"
   ]
  },
  {
   "cell_type": "markdown",
   "metadata": {},
   "source": [
    "##### Напишите программу, которая выводит на экран числа от 1 до 100. При этом вместо чисел, кратных трем, программа должна выводить слово «Fizz», а вместо чисел, кратных пяти — слово «Buzz». Если число кратно и 3, и 5, то программа должна выводить слово «FizzBuzz»\n"
   ]
  },
  {
   "cell_type": "code",
   "execution_count": 65,
   "metadata": {
    "collapsed": false
   },
   "outputs": [
    {
     "name": "stdout",
     "output_type": "stream",
     "text": [
      "1 2 Fizz 4 Buzz Fizz 7 8 Fizz Buzz 11 Fizz 13 14 FizzBuzz 16 17 Fizz 19 Buzz Fizz 22 23 Fizz Buzz 26 Fizz 28 29 FizzBuzz 31 32 Fizz 34 Buzz Fizz 37 38 Fizz Buzz 41 Fizz 43 44 FizzBuzz 46 47 Fizz 49 Buzz Fizz 52 53 Fizz Buzz 56 Fizz 58 59 FizzBuzz 61 62 Fizz 64 Buzz Fizz 67 68 Fizz Buzz 71 Fizz 73 74 FizzBuzz 76 77 Fizz 79 Buzz Fizz 82 83 Fizz Buzz 86 Fizz 88 89 FizzBuzz 91 92 Fizz 94 Buzz Fizz 97 98 Fizz Buzz\n"
     ]
    }
   ],
   "source": [
    "for i in range(1, 101):\n",
    "    if ((i % 5 == 0) and (i % 3 == 0)):\n",
    "        i = 'FizzBuzz'\n",
    "    elif (i % 3 == 0):\n",
    "        i = 'Fizz'\n",
    "    elif (i % 5 == 0):\n",
    "        i = 'Buzz'\n",
    "    print i,"
   ]
  },
  {
   "cell_type": "markdown",
   "metadata": {},
   "source": [
    "### Вычисление сотого числа Фибоначчи"
   ]
  },
  {
   "cell_type": "code",
   "execution_count": 62,
   "metadata": {
    "collapsed": false
   },
   "outputs": [
    {
     "name": "stdout",
     "output_type": "stream",
     "text": [
      "354224848179261915075\n"
     ]
    }
   ],
   "source": [
    "fibonacci_numbers = [0, 1]\n",
    "for i in range(100):\n",
    "    fibonacci_numbers.append(fibonacci_numbers[-1] + fibonacci_numbers[-2])\n",
    "print fibonacci_numbers[-2]"
   ]
  },
  {
   "cell_type": "code",
   "execution_count": 7,
   "metadata": {
    "collapsed": true
   },
   "outputs": [],
   "source": [
    "import numpy as np"
   ]
  },
  {
   "cell_type": "code",
   "execution_count": 38,
   "metadata": {
    "collapsed": false
   },
   "outputs": [
    {
     "name": "stdout",
     "output_type": "stream",
     "text": [
      "6\n",
      "Object `swap` not found.\n"
     ]
    }
   ],
   "source": [
    "array = [3, 9, 2, 6, 4, 8]\n",
    "print len(array)\n",
    "if len(array) > 1:\n",
    "    pivot = array[np.random.randint(0, len(array))]\n"
   ]
  },
  {
   "cell_type": "code",
   "execution_count": 26,
   "metadata": {
    "collapsed": false
   },
   "outputs": [
    {
     "name": "stdout",
     "output_type": "stream",
     "text": [
      "[3, 9, 2, 6, 4, 8]\n",
      "3 8\n",
      "5\n"
     ]
    }
   ],
   "source": [
    "array = [3, 9, 2, 6, 4, 8]\n",
    "print array\n",
    "\n",
    "lower = array[0]\n",
    "upper = array[-1]\n",
    "print lower, upper\n",
    "\n",
    "pivot = (lower + upper)/2\n",
    "print pivot\n",
    "\n",
    "def quicksort(arr):\n",
    "    lower_number = 0\n",
    "    upper_number = -1\n",
    "    pivot = (lower + upper) / 2\n",
    "    whi"
   ]
  },
  {
   "cell_type": "markdown",
   "metadata": {},
   "source": [
    "# Numpy"
   ]
  },
  {
   "cell_type": "markdown",
   "metadata": {
    "collapsed": true
   },
   "source": [
    "## Linspace "
   ]
  },
  {
   "cell_type": "code",
   "execution_count": null,
   "metadata": {
    "collapsed": false
   },
   "outputs": [],
   "source": []
  },
  {
   "cell_type": "markdown",
   "metadata": {},
   "source": [
    "## ndarray and list comparison"
   ]
  },
  {
   "cell_type": "code",
   "execution_count": 39,
   "metadata": {
    "collapsed": false
   },
   "outputs": [
    {
     "name": "stdout",
     "output_type": "stream",
     "text": [
      "100000 loops, best of 3: 8.36 µs per loop\n",
      "10000 loops, best of 3: 81.1 µs per loop\n"
     ]
    }
   ],
   "source": [
    "%timeit np.arange(0, 10000)\n",
    "%timeit range(0, 10000)\n"
   ]
  },
  {
   "cell_type": "markdown",
   "metadata": {},
   "source": [
    "# Matplotlib"
   ]
  },
  {
   "cell_type": "code",
   "execution_count": 56,
   "metadata": {
    "collapsed": true
   },
   "outputs": [],
   "source": [
    "%matplotlib inline"
   ]
  },
  {
   "cell_type": "markdown",
   "metadata": {},
   "source": [
    "## Plot three elementary functions on the same coordinate plane"
   ]
  },
  {
   "cell_type": "code",
   "execution_count": 81,
   "metadata": {
    "collapsed": false
   },
   "outputs": [
    {
     "data": {
      "image/png": "[encoded data removed]",
      "text/plain": [
       "<matplotlib.figure.Figure at 0x77069b0>"
      ]
     },
     "metadata": {},
     "output_type": "display_data"
    }
   ],
   "source": [
    "from matplotlib import pylab as plt\n",
    "x = np.arange(-2, 2, 0.1)\n",
    "\n",
    "y = x ** 3\n",
    "sin = np.sin(x)\n",
    "exp = np.exp(x)\n",
    "\n",
    "\n",
    "\n",
    "plt.plot(x, y, 'red', x, sin, 'blue', x, exp, 'green')\n",
    "plt.show()\n"
   ]
  },
  {
   "cell_type": "markdown",
   "metadata": {},
   "source": [
    "## Add a plot legend"
   ]
  },
  {
   "cell_type": "code",
   "execution_count": 90,
   "metadata": {
    "collapsed": false
   },
   "outputs": [
    {
     "data": {
      "image/png": "[encoded data removed]",
      "text/plain": [
       "<matplotlib.figure.Figure at 0x7e5d860>"
      ]
     },
     "metadata": {},
     "output_type": "display_data"
    }
   ],
   "source": [
    "plt.plot(x, y, 'red', x, sin, 'blue', x, exp, 'green')\n",
    "plt.show()\n"
   ]
  },
  {
   "cell_type": "code",
   "execution_count": 93,
   "metadata": {
    "collapsed": false
   },
   "outputs": [
    {
     "data": {
      "text/plain": [
       "<matplotlib.legend.Legend at 0x832e668>"
      ]
     },
     "execution_count": 93,
     "metadata": {},
     "output_type": "execute_result"
    },
    {
     "data": {
      "image/png": "[encoded data removed]",
      "text/plain": [
       "<matplotlib.figure.Figure at 0x7aaf4a8>"
      ]
     },
     "metadata": {},
     "output_type": "display_data"
    }
   ],
   "source": [
    "plt.plot(x, y, 'r', label = 'x ** 3')\n",
    "plt.plot(x, sin, 'g', label = 'sinx')\n",
    "plt.plot(x, exp, 'b', label = 'exp')\n",
    "plt.ylabel('$functions$')\n",
    "plt.xlabel('$x$')\n",
    "plt.legend(loc='upper left')"
   ]
  },
  {
   "cell_type": "markdown",
   "metadata": {},
   "source": [
    "## Two plots side by side"
   ]
  },
  {
   "cell_type": "code",
   "execution_count": 112,
   "metadata": {
    "collapsed": false
   },
   "outputs": [
    {
     "data": {
      "text/plain": [
       "[<matplotlib.lines.Line2D at 0xc632f28>]"
      ]
     },
     "execution_count": 112,
     "metadata": {},
     "output_type": "execute_result"
    },
    {
     "data": {
      "image/png": "[encoded data removed]",
      "text/plain": [
       "<matplotlib.figure.Figure at 0xc3c95c0>"
      ]
     },
     "metadata": {},
     "output_type": "display_data"
    }
   ],
   "source": [
    "f, (ax1, ax2) = plt.subplots(1, 2, sharey=True)\n",
    "ax1.plot(x,y,x,sin,x,exp)\n",
    "ax2.plot(x, x ** 4, 'y')\n",
    "ax2.plot(x, (-x) ** 3, 'green')"
   ]
  },
  {
   "cell_type": "markdown",
   "metadata": {},
   "source": [
    "## Save plot to file "
   ]
  },
  {
   "cell_type": "code",
   "execution_count": 115,
   "metadata": {
    "collapsed": false
   },
   "outputs": [
    {
     "data": {
      "image/png": "[encoded data removed]",
      "text/plain": [
       "<matplotlib.figure.Figure at 0xc593390>"
      ]
     },
     "metadata": {},
     "output_type": "display_data"
    }
   ],
   "source": [
    "plt.plot(x, y, 'r', label = 'x ** 3')\n",
    "plt.plot(x, sin, 'g', label = 'sinx')\n",
    "plt.plot(x, exp, 'b', label = 'exp')\n",
    "plt.ylabel('$functions$')\n",
    "plt.xlabel('$x$')\n",
    "plt.legend(loc='upper left')\n",
    "plt.savefig('hw0.png') #saving"
   ]
  },
  {
   "cell_type": "markdown",
   "metadata": {},
   "source": [
    "# SciPy"
   ]
  },
  {
   "cell_type": "markdown",
   "metadata": {},
   "source": [
    "## Generate 5x5 matrix"
   ]
  },
  {
   "cell_type": "code",
   "execution_count": 117,
   "metadata": {
    "collapsed": true
   },
   "outputs": [],
   "source": [
    "import scipy.stats as sts"
   ]
  },
  {
   "cell_type": "code",
   "execution_count": 122,
   "metadata": {
    "collapsed": false
   },
   "outputs": [
    {
     "name": "stdout",
     "output_type": "stream",
     "text": [
      "[[ 0.28474335 -3.29547315  0.69004331  0.64459855 -0.96673831]\n",
      " [ 0.84049722 -0.00470726  0.88192429 -0.55855453  1.03270054]\n",
      " [ 1.61470662 -0.26896013  2.03074991  0.33103949  1.8284556 ]\n",
      " [-0.06372792 -1.62796121 -0.04406607 -0.06661869  1.21860602]\n",
      " [ 0.73181266  1.27444334  1.16796813 -1.52809617  0.14941133]]\n"
     ]
    }
   ],
   "source": [
    "mu = 0\n",
    "sigma = 1.\n",
    "norm_rv = sts.norm(loc=mu, scale=sigma)\n",
    "matrix = norm_rv.rvs(size=(5, 5))\n",
    "print matrix"
   ]
  },
  {
   "cell_type": "markdown",
   "metadata": {},
   "source": [
    "## Finding eigenvalues and eigenvectors"
   ]
  },
  {
   "cell_type": "code",
   "execution_count": 134,
   "metadata": {
    "collapsed": false
   },
   "outputs": [
    {
     "name": "stdout",
     "output_type": "stream",
     "text": [
      "Матрица A:\n",
      "[[ 0.28474335 -3.29547315  0.69004331  0.64459855 -0.96673831]\n",
      " [ 0.84049722 -0.00470726  0.88192429 -0.55855453  1.03270054]\n",
      " [ 1.61470662 -0.26896013  2.03074991  0.33103949  1.8284556 ]\n",
      " [-0.06372792 -1.62796121 -0.04406607 -0.06661869  1.21860602]\n",
      " [ 0.73181266  1.27444334  1.16796813 -1.52809617  0.14941133]]\n",
      "Собственные числа:\n",
      "[-0.82649462+0.96940015j -0.82649462-0.96940015j  1.47666512+0.75012109j\n",
      "  1.47666512-0.75012109j  1.09323766+0.j        ]\n",
      "Собственные векторы:\n",
      "[[ 0.09604628+0.46915116j  0.09604628-0.46915116j -0.66587296+0.j\n",
      "  -0.66587296-0.j         -0.70292127+0.j        ]\n",
      " [ 0.28265942-0.07580131j  0.28265942+0.07580131j  0.24386530+0.14182395j\n",
      "   0.24386530-0.14182395j  0.21048275+0.j        ]\n",
      " [ 0.05066018-0.48319275j  0.05066018+0.48319275j  0.50718506+0.22466365j\n",
      "   0.50718506-0.22466365j  0.58419666+0.j        ]\n",
      " [ 0.56652211+0.j          0.56652211-0.j          0.03107526-0.03859479j\n",
      "   0.03107526+0.03859479j  0.07646170+0.j        ]\n",
      " [ 0.03120391+0.35646521j  0.03120391-0.35646521j  0.37241479+0.16784049j\n",
      "   0.37241479-0.16784049j  0.33832909+0.j        ]]\n",
      "[ 0.09604628+0.46915116j  0.28265942-0.07580131j  0.05066018-0.48319275j\n",
      "  0.56652211+0.j          0.03120391+0.35646521j]\n"
     ]
    }
   ],
   "source": [
    "eigenvalues, eigenvectors = np.linalg.eig(matrix)\n",
    "print \"Матрица A:\\n\", matrix\n",
    "print \"Собственные числа:\\n\", eigenvalues\n",
    "print \"Собственные векторы:\\n\", eigenvectors\n",
    "print eigenvectors[:,0]"
   ]
  },
  {
   "cell_type": "markdown",
   "metadata": {},
   "source": [
    "## Checking"
   ]
  },
  {
   "cell_type": "code",
   "execution_count": 138,
   "metadata": {
    "collapsed": false
   },
   "outputs": [
    {
     "name": "stdout",
     "output_type": "stream",
     "text": [
      "[ 3.40229634+3.5047515j   0.91572005+1.89987489j  4.37425629+3.10101547j\n",
      "  2.56695363+1.53328518j -2.02660621+1.49634843j]\n",
      "[-3.80335662+0.j  0.41728279+0.j  2.65257439+0.j -0.70318713+0.j\n",
      "  0.47524201+0.j]\n"
     ]
    }
   ],
   "source": [
    "print np.dot(matrix, eigenvalues)\n",
    "print np.dot(eigenvectors,eigenvalues)\n"
   ]
  },
  {
   "cell_type": "code",
   "execution_count": null,
   "metadata": {
    "collapsed": true
   },
   "outputs": [],
   "source": []
  }
 ],
 "metadata": {
  "kernelspec": {
   "display_name": "Python 2",
   "language": "python",
   "name": "python2"
  },
  "language_info": {
   "codemirror_mode": {
    "name": "ipython",
    "version": 2
   },
   "file_extension": ".py",
   "mimetype": "text/x-python",
   "name": "python",
   "nbconvert_exporter": "python",
   "pygments_lexer": "ipython2",
   "version": "2.7.11"
  }
 },
 "nbformat": 4,
 "nbformat_minor": 0
}
