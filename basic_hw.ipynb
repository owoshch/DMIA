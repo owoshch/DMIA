{
 "cells": [
  {
   "cell_type": "markdown",
   "metadata": {},
   "source": [
    "# DMIA 2016 - Python 1"
   ]
  },
  {
   "cell_type": "markdown",
   "metadata": {},
   "source": [
    "##### Done by Fedor Kitashov "
   ]
  },
  {
   "cell_type": "markdown",
   "metadata": {},
   "source": [
    "# Python "
   ]
  },
  {
   "cell_type": "markdown",
   "metadata": {},
   "source": [
    "## 1. FizzBuzz"
   ]
  },
  {
   "cell_type": "markdown",
   "metadata": {},
   "source": [
    "##### Напишите программу, которая выводит на экран числа от 1 до 100. При этом вместо чисел, кратных трем, программа должна выводить слово «Fizz», а вместо чисел, кратных пяти — слово «Buzz». Если число кратно и 3, и 5, то программа должна выводить слово «FizzBuzz»\n"
   ]
  },
  {
   "cell_type": "code",
   "execution_count": 1,
   "metadata": {
    "collapsed": false
   },
   "outputs": [
    {
     "name": "stdout",
     "output_type": "stream",
     "text": [
      "1 2 Fizz 4 Buzz Fizz 7 8 Fizz Buzz 11 Fizz 13 14 FizzBuzz 16 17 Fizz 19 Buzz Fizz 22 23 Fizz Buzz 26 Fizz 28 29 FizzBuzz 31 32 Fizz 34 Buzz Fizz 37 38 Fizz Buzz 41 Fizz 43 44 FizzBuzz 46 47 Fizz 49 Buzz Fizz 52 53 Fizz Buzz 56 Fizz 58 59 FizzBuzz 61 62 Fizz 64 Buzz Fizz 67 68 Fizz Buzz 71 Fizz 73 74 FizzBuzz 76 77 Fizz 79 Buzz Fizz 82 83 Fizz Buzz 86 Fizz 88 89 FizzBuzz 91 92 Fizz 94 Buzz Fizz 97 98 Fizz Buzz\n"
     ]
    }
   ],
   "source": [
    "for i in range(1, 101):\n",
    "    if ((i % 5 == 0) and (i % 3 == 0)):\n",
    "        i = 'FizzBuzz'\n",
    "    elif (i % 3 == 0):\n",
    "        i = 'Fizz'\n",
    "    elif (i % 5 == 0):\n",
    "        i = 'Buzz'\n",
    "    print i,"
   ]
  },
  {
   "cell_type": "code",
   "execution_count": 4,
   "metadata": {
    "collapsed": false
   },
   "outputs": [
    {
     "name": "stdout",
     "output_type": "stream",
     "text": [
      "1 2 Fizz 4 Buzz Fizz 7 8 Fizz Buzz 11 Fizz 13 14 FizzBuzz 16 17 Fizz 19 Buzz Fizz 22 23 Fizz Buzz 26 Fizz 28 29 FizzBuzz 31 32 Fizz 34 Buzz Fizz 37 38 Fizz Buzz 41 Fizz 43 44 FizzBuzz 46 47 Fizz 49 Buzz Fizz 52 53 Fizz Buzz 56 Fizz 58 59 FizzBuzz 61 62 Fizz 64 Buzz Fizz 67 68 Fizz Buzz 71 Fizz 73 74 FizzBuzz 76 77 Fizz 79 Buzz Fizz 82 83 Fizz Buzz 86 Fizz 88 89 FizzBuzz 91 92 Fizz 94 Buzz Fizz 97 98 Fizz Buzz\n"
     ]
    }
   ],
   "source": [
    "# tiny version\n",
    "\n",
    "for i in range(1, 101):\n",
    "    print ('Fizz' * (not i % 3) + 'Buzz' * (not i % 5) or i),"
   ]
  },
  {
   "cell_type": "markdown",
   "metadata": {},
   "source": [
    "### Вычисление сотого числа Фибоначчи"
   ]
  },
  {
   "cell_type": "code",
   "execution_count": 15,
   "metadata": {
    "collapsed": false
   },
   "outputs": [
    {
     "name": "stdout",
     "output_type": "stream",
     "text": [
      "354224848179261915075\n"
     ]
    }
   ],
   "source": [
    "fibonacci_numbers = [0, 1]\n",
    "for i in range(100):\n",
    "    fibonacci_numbers.append(fibonacci_numbers[-1] + fibonacci_numbers[-2])\n",
    "print fibonacci_numbers[-2]"
   ]
  },
  {
   "cell_type": "markdown",
   "metadata": {},
   "source": [
    "## Sorting"
   ]
  },
  {
   "cell_type": "code",
   "execution_count": 27,
   "metadata": {
    "collapsed": true
   },
   "outputs": [],
   "source": [
    "import numpy as np\n"
   ]
  },
  {
   "cell_type": "markdown",
   "metadata": {},
   "source": [
    "### Bubble Sort"
   ]
  },
  {
   "cell_type": "code",
   "execution_count": 28,
   "metadata": {
    "collapsed": false
   },
   "outputs": [
    {
     "name": "stdout",
     "output_type": "stream",
     "text": [
      "[  7   4  -7   2  -6   5   8  -6  -8 -10]\n"
     ]
    }
   ],
   "source": [
    "list = np.random.randint(-10, 10, 10)\n",
    "#list = [2, 4, 6, 8, 1, 3, 7, 5]\n",
    "print list"
   ]
  },
  {
   "cell_type": "code",
   "execution_count": 23,
   "metadata": {
    "collapsed": false
   },
   "outputs": [
    {
     "data": {
      "text/plain": [
       "[-7, 0, 1, 5, 8]"
      ]
     },
     "execution_count": 23,
     "metadata": {},
     "output_type": "execute_result"
    }
   ],
   "source": [
    "def bSort(list):\n",
    "    for i in range(len(list) - 1):\n",
    "        for i in range(len(list) - 1):\n",
    "            if (list[i] > list[i+1]):\n",
    "                list[i], list[i+1] = list[i+1], list[i]\n",
    "    return list\n",
    "\n",
    "bSort([1, 5, 8, 0, -7])"
   ]
  },
  {
   "cell_type": "markdown",
   "metadata": {},
   "source": [
    "## Selection sort"
   ]
  },
  {
   "cell_type": "code",
   "execution_count": 6,
   "metadata": {
    "collapsed": false
   },
   "outputs": [
    {
     "name": "stdout",
     "output_type": "stream",
     "text": [
      "[-7 -2  0  1  2  5  6  7  7  9]\n"
     ]
    }
   ],
   "source": [
    "i = 0\n",
    "for i in range(len(list) - 1):\n",
    "    for i in range(len(list) - 1):\n",
    "        if (list[i] < list[i+1]):\n",
    "            min_number = i\n",
    "    list[min_number], list[i] = list[i], list[min_number]\n",
    "\n",
    "print list\n",
    "            "
   ]
  },
  {
   "cell_type": "markdown",
   "metadata": {
    "collapsed": true
   },
   "source": [
    "### Qsort tryings"
   ]
  },
  {
   "cell_type": "markdown",
   "metadata": {},
   "source": [
    "##### First version:"
   ]
  },
  {
   "cell_type": "code",
   "execution_count": 23,
   "metadata": {
    "collapsed": false
   },
   "outputs": [],
   "source": [
    "def myQSort(list):\n",
    "    less = []\n",
    "    more = []\n",
    "    equal = []\n",
    "    if len(list) > 1:\n",
    "        pivot = list[0]\n",
    "        for x in list:\n",
    "            if x < pivot:\n",
    "                less.append(x)\n",
    "            elif x == pivot:\n",
    "                equal.append(x)\n",
    "            elif x > pivot:\n",
    "                more.append(x)\n",
    "        less = myQSort(less)\n",
    "        more = myQSort(more)\n",
    "        return less + equal + more\n",
    "    else:\n",
    "        return list\n",
    "\n",
    "\n",
    "    \n",
    "            "
   ]
  },
  {
   "cell_type": "markdown",
   "metadata": {},
   "source": [
    "##### Second version:\n"
   ]
  },
  {
   "cell_type": "markdown",
   "metadata": {},
   "source": [
    "# Numpy"
   ]
  },
  {
   "cell_type": "markdown",
   "metadata": {
    "collapsed": true
   },
   "source": [
    "## Linspace "
   ]
  },
  {
   "cell_type": "code",
   "execution_count": 10,
   "metadata": {
    "collapsed": false
   },
   "outputs": [],
   "source": [
    "import numpy as np"
   ]
  },
  {
   "cell_type": "code",
   "execution_count": 11,
   "metadata": {
    "collapsed": false
   },
   "outputs": [
    {
     "data": {
      "text/plain": [
       "array([-10.,  -9.,  -8.,  -7.,  -6.,  -5.,  -4.,  -3.,  -2.,  -1.,   0.,\n",
       "         1.,   2.,   3.,   4.,   5.,   6.,   7.,   8.,   9.,  10.])"
      ]
     },
     "execution_count": 11,
     "metadata": {},
     "output_type": "execute_result"
    }
   ],
   "source": [
    "np.linspace(-10, 10, 21)"
   ]
  },
  {
   "cell_type": "code",
   "execution_count": 12,
   "metadata": {
    "collapsed": false
   },
   "outputs": [
    {
     "data": {
      "text/plain": [
       "array([-10.])"
      ]
     },
     "execution_count": 12,
     "metadata": {},
     "output_type": "execute_result"
    }
   ],
   "source": [
    "np.linspace(-10, 10, 1)"
   ]
  },
  {
   "cell_type": "markdown",
   "metadata": {},
   "source": [
    "### My Linspace"
   ]
  },
  {
   "cell_type": "code",
   "execution_count": 13,
   "metadata": {
    "collapsed": false
   },
   "outputs": [],
   "source": [
    "def my_linspace(x0, x1, n):\n",
    "    list = [x0]\n",
    "    len = x1 - x0\n",
    "    if (n != 1):\n",
    "        while (x0 < x1):\n",
    "            list.append(x0 + (float(len) / (n - 1)))\n",
    "            x0 = x0 + (float(len) / ( n - 1))\n",
    "    print list\n"
   ]
  },
  {
   "cell_type": "code",
   "execution_count": 14,
   "metadata": {
    "collapsed": false,
    "scrolled": true
   },
   "outputs": [
    {
     "name": "stdout",
     "output_type": "stream",
     "text": [
      "[-10, -9.0, -8.0, -7.0, -6.0, -5.0, -4.0, -3.0, -2.0, -1.0, 0.0, 1.0, 2.0, 3.0, 4.0, 5.0, 6.0, 7.0, 8.0, 9.0, 10.0]\n"
     ]
    }
   ],
   "source": [
    "my_linspace(-10, 10, 21) "
   ]
  },
  {
   "cell_type": "code",
   "execution_count": 15,
   "metadata": {
    "collapsed": false
   },
   "outputs": [
    {
     "name": "stdout",
     "output_type": "stream",
     "text": [
      "[-10]\n"
     ]
    }
   ],
   "source": [
    "my_linspace(-10, 10, 1)"
   ]
  },
  {
   "cell_type": "markdown",
   "metadata": {},
   "source": [
    "## Ndarray and List comparison"
   ]
  },
  {
   "cell_type": "code",
   "execution_count": 16,
   "metadata": {
    "collapsed": false
   },
   "outputs": [
    {
     "name": "stdout",
     "output_type": "stream",
     "text": [
      "The slowest run took 13.88 times longer than the fastest. This could mean that an intermediate result is being cached.\n",
      "100000 loops, best of 3: 11.7 µs per loop\n",
      "10000 loops, best of 3: 69 µs per loop\n"
     ]
    }
   ],
   "source": [
    "%timeit np.arange(0, 10000)\n",
    "%timeit range(0, 10000)\n"
   ]
  },
  {
   "cell_type": "markdown",
   "metadata": {},
   "source": [
    "# Matplotlib"
   ]
  },
  {
   "cell_type": "code",
   "execution_count": 17,
   "metadata": {
    "collapsed": true
   },
   "outputs": [],
   "source": [
    "%matplotlib inline"
   ]
  },
  {
   "cell_type": "markdown",
   "metadata": {},
   "source": [
    "## Plot three elementary functions on the same coordinate plane"
   ]
  },
  {
   "cell_type": "code",
   "execution_count": 18,
   "metadata": {
    "collapsed": false
   },
   "outputs": [
    {
     "data": {
      "image/png": "[encoded data removed]",
      "text/plain": [
       "<matplotlib.figure.Figure at 0x7f0347156f50>"
      ]
     },
     "metadata": {},
     "output_type": "display_data"
    }
   ],
   "source": [
    "from matplotlib import pylab as plt\n",
    "x = np.arange(-2, 2, 0.1)\n",
    "\n",
    "y = x ** 3\n",
    "sin = np.sin(x)\n",
    "exp = np.exp(x)\n",
    "\n",
    "\n",
    "\n",
    "plt.plot(x, y, 'red', x, sin, 'blue', x, exp, 'green')\n",
    "plt.show()\n"
   ]
  },
  {
   "cell_type": "markdown",
   "metadata": {},
   "source": [
    "## Add a plot legend"
   ]
  },
  {
   "cell_type": "code",
   "execution_count": 19,
   "metadata": {
    "collapsed": false
   },
   "outputs": [
    {
     "data": {
      "image/png": "[encoded data removed]",
      "text/plain": [
       "<matplotlib.figure.Figure at 0x7f0358142450>"
      ]
     },
     "metadata": {},
     "output_type": "display_data"
    }
   ],
   "source": [
    "plt.plot(x, y, 'red', x, sin, 'blue', x, exp, 'green')\n",
    "plt.show()\n"
   ]
  },
  {
   "cell_type": "code",
   "execution_count": 20,
   "metadata": {
    "collapsed": false
   },
   "outputs": [
    {
     "data": {
      "text/plain": [
       "<matplotlib.legend.Legend at 0x7f0344298e90>"
      ]
     },
     "execution_count": 20,
     "metadata": {},
     "output_type": "execute_result"
    },
    {
     "data": {
      "image/png": "[encoded data removed]",
      "text/plain": [
       "<matplotlib.figure.Figure at 0x7f03471563d0>"
      ]
     },
     "metadata": {},
     "output_type": "display_data"
    }
   ],
   "source": [
    "plt.plot(x, y, 'r', label = 'x ** 3')\n",
    "plt.plot(x, sin, 'g', label = 'sinx')\n",
    "plt.plot(x, exp, 'b', label = 'exp')\n",
    "plt.ylabel('$functions$')\n",
    "plt.xlabel('$x$')\n",
    "plt.legend(loc='upper left')"
   ]
  },
  {
   "cell_type": "markdown",
   "metadata": {},
   "source": [
    "## Two plots side by side"
   ]
  },
  {
   "cell_type": "code",
   "execution_count": 21,
   "metadata": {
    "collapsed": false
   },
   "outputs": [
    {
     "data": {
      "text/plain": [
       "[<matplotlib.lines.Line2D at 0x7f0343f73f50>]"
      ]
     },
     "execution_count": 21,
     "metadata": {},
     "output_type": "execute_result"
    },
    {
     "data": {
      "image/png": "[encoded data removed]",
      "text/plain": [
       "<matplotlib.figure.Figure at 0x7f0344942050>"
      ]
     },
     "metadata": {},
     "output_type": "display_data"
    }
   ],
   "source": [
    "f, (ax1, ax2) = plt.subplots(1, 2, sharey=True)\n",
    "ax1.plot(x,y,x,sin,x,exp)\n",
    "ax2.plot(x, x ** 4, 'y')\n",
    "ax2.plot(x, (-x) ** 3, 'green')"
   ]
  },
  {
   "cell_type": "markdown",
   "metadata": {},
   "source": [
    "## Save plot to file "
   ]
  },
  {
   "cell_type": "code",
   "execution_count": 22,
   "metadata": {
    "collapsed": false
   },
   "outputs": [
    {
     "data": {
      "image/png": "[encoded data removed]",
      "text/plain": [
       "<matplotlib.figure.Figure at 0x7f03448f6f90>"
      ]
     },
     "metadata": {},
     "output_type": "display_data"
    }
   ],
   "source": [
    "plt.plot(x, y, 'r', label = 'x ** 3')\n",
    "plt.plot(x, sin, 'g', label = 'sinx')\n",
    "plt.plot(x, exp, 'b', label = 'exp')\n",
    "plt.ylabel('$functions$')\n",
    "plt.xlabel('$x$')\n",
    "plt.legend(loc='upper left')\n",
    "plt.savefig('hw0.png') #saving"
   ]
  },
  {
   "cell_type": "markdown",
   "metadata": {},
   "source": [
    "# SciPy"
   ]
  },
  {
   "cell_type": "markdown",
   "metadata": {},
   "source": [
    "## Generate 5x5 matrix"
   ]
  },
  {
   "cell_type": "code",
   "execution_count": 77,
   "metadata": {
    "collapsed": true
   },
   "outputs": [],
   "source": [
    "import scipy.stats as sts"
   ]
  },
  {
   "cell_type": "code",
   "execution_count": 81,
   "metadata": {
    "collapsed": false
   },
   "outputs": [
    {
     "name": "stdout",
     "output_type": "stream",
     "text": [
      "[[ 0.19728306 -1.86584192  0.27423069 -0.86377511  0.18133412]\n",
      " [-2.65615257 -1.02793513  1.43381393 -0.87718419 -0.97246535]\n",
      " [ 0.30879297  0.32932846 -1.76250436 -0.97266254  0.49589179]\n",
      " [ 0.10138411  1.04916699 -1.55738982  1.64067984 -1.834219  ]\n",
      " [-1.68465413  1.52068389  0.66144577 -1.13977711 -0.74973048]]\n"
     ]
    }
   ],
   "source": [
    "mu = 0\n",
    "sigma = 1.\n",
    "norm_rv = sts.norm(loc=mu, scale=sigma)\n",
    "matrix = norm_rv.rvs(size=(5, 5))\n",
    "print matrix\n"
   ]
  },
  {
   "cell_type": "markdown",
   "metadata": {},
   "source": [
    "## Finding eigenvalues and eigenvectors"
   ]
  },
  {
   "cell_type": "code",
   "execution_count": 82,
   "metadata": {
    "collapsed": false
   },
   "outputs": [
    {
     "name": "stdout",
     "output_type": "stream",
     "text": [
      "Матрица A:\n",
      "[[ 0.19728306 -1.86584192  0.27423069 -0.86377511  0.18133412]\n",
      " [-2.65615257 -1.02793513  1.43381393 -0.87718419 -0.97246535]\n",
      " [ 0.30879297  0.32932846 -1.76250436 -0.97266254  0.49589179]\n",
      " [ 0.10138411  1.04916699 -1.55738982  1.64067984 -1.834219  ]\n",
      " [-1.68465413  1.52068389  0.66144577 -1.13977711 -0.74973048]]\n",
      "Собственные числа:\n",
      "[ 2.34477578+0.j        1.79602996+0.j       -2.77724491+0.j\n",
      " -1.53288395+0.431384j -1.53288395-0.431384j]\n",
      "Собственные векторы:\n",
      "[[ 0.42184287+0.j          0.63818873+0.j         -0.29290836+0.j\n",
      "   0.38862560+0.22349516j  0.38862560-0.22349516j]\n",
      " [-0.03782920+0.j         -0.22126874+0.j         -0.56443539+0.j\n",
      "   0.43186814+0.21755467j  0.43186814-0.21755467j]\n",
      " [ 0.24776466+0.j          0.19403941+0.j          0.58209192+0.j\n",
      "   0.53310679+0.j          0.53310679-0.j        ]\n",
      " [-0.86268905+0.j         -0.68324986+0.j          0.44590755+0.j\n",
      "   0.11428475-0.30353577j  0.11428475+0.30353577j]\n",
      " [ 0.12246559+0.j         -0.19817575+0.j          0.24073393+0.j\n",
      "  -0.05779210-0.41526158j -0.05779210+0.41526158j]]\n"
     ]
    }
   ],
   "source": [
    "eigenvalues, eigenvectors = np.linalg.eig(matrix)\n",
    "print \"Матрица A:\\n\", matrix\n",
    "print \"Собственные числа:\\n\", eigenvalues\n",
    "print \"Собственные векторы:\\n\", eigenvectors\n"
   ]
  },
  {
   "cell_type": "markdown",
   "metadata": {},
   "source": [
    "## Checking"
   ]
  },
  {
   "cell_type": "code",
   "execution_count": 99,
   "metadata": {
    "collapsed": false
   },
   "outputs": [
    {
     "name": "stdout",
     "output_type": "stream",
     "text": [
      "1 eigenvector and eigenvalue checking\n",
      "Matrix * Eigenvector\n",
      "[ 0.98912695+0.j -0.08870099+0.j  0.58095258+0.j -2.02281239+0.j\n",
      "  0.28715434+0.j]\n",
      "Eigenvalue * Eigenvector\n",
      "[ 0.98912695+0.j -0.08870099+0.j  0.58095258+0.j -2.02281239+0.j\n",
      "  0.28715434+0.j]\n",
      "2 eigenvector and eigenvalue checking\n",
      "Matrix * Eigenvector\n",
      "[ 1.14620607+0.j -0.39740528+0.j  0.34850060+0.j -1.22713721+0.j\n",
      " -0.35592959+0.j]\n",
      "Eigenvalue * Eigenvector\n",
      "[ 1.14620607+0.j -0.39740528+0.j  0.34850060+0.j -1.22713721+0.j\n",
      " -0.35592959+0.j]\n",
      "3 eigenvector and eigenvalue checking\n",
      "Matrix * Eigenvector\n",
      "[ 0.81347826+0.j  1.56757532+0.j -1.61661183+0.j -1.23839448+0.j\n",
      " -0.66857707+0.j]\n",
      "Eigenvalue * Eigenvector\n",
      "[ 0.81347826+0.j  1.56757532+0.j -1.61661183+0.j -1.23839448+0.j\n",
      " -0.66857707+0.j]\n",
      "4 eigenvector and eigenvalue checking\n",
      "Matrix * Eigenvector\n",
      "[-0.69213019-0.17494528j -0.75585335-0.14718506j -0.81719085+0.22997374j\n",
      " -0.04424478+0.51458571j  0.26772578+0.61161723j]\n",
      "Eigenvalue * Eigenvector\n",
      "[-0.69213019-0.17494528j -0.75585335-0.14718506j -0.81719085+0.22997374j\n",
      " -0.04424478+0.51458571j  0.26772578+0.61161723j]\n",
      "5 eigenvector and eigenvalue checking\n",
      "Matrix * Eigenvector\n",
      "[-0.69213019+0.17494528j -0.75585335+0.14718506j -0.81719085-0.22997374j\n",
      " -0.04424478-0.51458571j  0.26772578-0.61161723j]\n",
      "Eigenvalue * Eigenvector\n",
      "[-0.69213019+0.17494528j -0.75585335+0.14718506j -0.81719085-0.22997374j\n",
      " -0.04424478-0.51458571j  0.26772578-0.61161723j]\n"
     ]
    }
   ],
   "source": [
    "for i in range(len(eigenvectors[0, :])):\n",
    "    print str(i + 1) + \" eigenvector and eigenvalue checking\" \n",
    "    print \"Matrix * Eigenvector\"\n",
    "    print  np.dot(matrix, eigenvectors[:, i])\n",
    "    print \"Eigenvalue * Eigenvector\"\n",
    "    print  + np.dot(eigenvalues[i], eigenvectors[:, i])"
   ]
  }
 ],
 "metadata": {
  "anaconda-cloud": {},
  "kernelspec": {
   "display_name": "Python 2",
   "language": "python",
   "name": "python2"
  },
  "language_info": {
   "codemirror_mode": {
    "name": "ipython",
    "version": 2
   },
   "file_extension": ".py",
   "mimetype": "text/x-python",
   "name": "python",
   "nbconvert_exporter": "python",
   "pygments_lexer": "ipython2",
   "version": "2.7.13"
  }
 },
 "nbformat": 4,
 "nbformat_minor": 0
}
